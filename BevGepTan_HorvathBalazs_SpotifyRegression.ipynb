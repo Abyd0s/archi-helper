{
  "nbformat": 4,
  "nbformat_minor": 0,
  "metadata": {
    "colab": {
      "provenance": [],
      "authorship_tag": "ABX9TyOlBocjpbb2rVPXfVzN3aml",
      "include_colab_link": true
    },
    "kernelspec": {
      "name": "python3",
      "display_name": "Python 3"
    },
    "language_info": {
      "name": "python"
    },
    "gpuClass": "standard"
  },
  "cells": [
    {
      "cell_type": "markdown",
      "metadata": {
        "id": "view-in-github",
        "colab_type": "text"
      },
      "source": [
        "<a href=\"https://colab.research.google.com/github/Abyd0s/archi-helper/blob/main/BevGepTan_HorvathBalazs_SpotifyRegression.ipynb\" target=\"_parent\"><img src=\"https://colab.research.google.com/assets/colab-badge.svg\" alt=\"Open In Colab\"/></a>"
      ]
    },
    {
      "cell_type": "code",
      "source": [
        "import pandas as pd\n",
        "from sklearn.compose import *\n",
        "from sklearn.impute import *\n",
        "from sklearn.pipeline import Pipeline\n",
        "from sklearn.preprocessing import *\n",
        "from sklearn.ensemble import *\n",
        "import pickle"
      ],
      "metadata": {
        "id": "ucsBZPIIGVtj"
      },
      "execution_count": 270,
      "outputs": []
    },
    {
      "cell_type": "code",
      "source": [
        "# Mindenek előtt fontos feltölteni a két .csv fájlt a ../data/alá"
      ],
      "metadata": {
        "id": "kj6Px3K0cQAA"
      },
      "execution_count": 271,
      "outputs": []
    },
    {
      "cell_type": "code",
      "source": [
        "# .csv file beolvasása\n",
        "X = pd.read_csv('../data/SpotifyHits.csv')\n",
        "# Popularity oszlop átmásolva ebbe a fájlba, hogy a modell tanításnál meglegyen a két paraméter\n",
        "y = pd.read_csv('../data/Y_Popularity.csv')"
      ],
      "metadata": {
        "id": "8008Bqr90cVK"
      },
      "execution_count": 272,
      "outputs": []
    },
    {
      "cell_type": "code",
      "source": [
        "# Sorok, oszlopok száma X - (Elvárt: 1994 sor, 14 oszlop)\n",
        "X.shape"
      ],
      "metadata": {
        "colab": {
          "base_uri": "https://localhost:8080/"
        },
        "id": "i3x6qpQJpUlL",
        "outputId": "ea494390-b6ef-4d73-a1e1-4a23a8c9ca8f"
      },
      "execution_count": 273,
      "outputs": [
        {
          "output_type": "execute_result",
          "data": {
            "text/plain": [
              "(1994, 14)"
            ]
          },
          "metadata": {},
          "execution_count": 273
        }
      ]
    },
    {
      "cell_type": "code",
      "source": [
        "# Sorok, oszlopok száma Y - (Elvárt: 1994 sor, 2 oszlop)\n",
        "y.shape"
      ],
      "metadata": {
        "colab": {
          "base_uri": "https://localhost:8080/"
        },
        "id": "bn9SRYGxS5tx",
        "outputId": "aca4eacc-9f68-4306-c162-d9d9830250cc"
      },
      "execution_count": 274,
      "outputs": [
        {
          "output_type": "execute_result",
          "data": {
            "text/plain": [
              "(1994, 2)"
            ]
          },
          "metadata": {},
          "execution_count": 274
        }
      ]
    },
    {
      "cell_type": "code",
      "source": [
        "# Van-e null érték a DB-ben\n",
        "X.isnull().sum()"
      ],
      "metadata": {
        "colab": {
          "base_uri": "https://localhost:8080/"
        },
        "id": "3hZpNH2mpa5C",
        "outputId": "b8ed59cf-b0ca-4bbd-d308-678d8bb2b3f4"
      },
      "execution_count": 275,
      "outputs": [
        {
          "output_type": "execute_result",
          "data": {
            "text/plain": [
              "Index           0\n",
              "Title           0\n",
              "Artist          0\n",
              "Genre           0\n",
              "Year            0\n",
              "BPM             0\n",
              "Energy          0\n",
              "Danceability    0\n",
              "Loudness        0\n",
              "Liveness        0\n",
              "Valence         0\n",
              "Length          0\n",
              "Acousticness    0\n",
              "Speechiness     0\n",
              "dtype: int64"
            ]
          },
          "metadata": {},
          "execution_count": 275
        }
      ]
    },
    {
      "cell_type": "code",
      "source": [
        "# Adattípusok ellenőrzése\n",
        "X.dtypes"
      ],
      "metadata": {
        "colab": {
          "base_uri": "https://localhost:8080/"
        },
        "id": "pP1zGn5MqE_7",
        "outputId": "f90b34f5-21d0-4fea-c826-7a14ed3f1195"
      },
      "execution_count": 276,
      "outputs": [
        {
          "output_type": "execute_result",
          "data": {
            "text/plain": [
              "Index            int64\n",
              "Title           object\n",
              "Artist          object\n",
              "Genre           object\n",
              "Year             int64\n",
              "BPM              int64\n",
              "Energy           int64\n",
              "Danceability     int64\n",
              "Loudness         int64\n",
              "Liveness         int64\n",
              "Valence          int64\n",
              "Length           int64\n",
              "Acousticness     int64\n",
              "Speechiness      int64\n",
              "dtype: object"
            ]
          },
          "metadata": {},
          "execution_count": 276
        }
      ]
    },
    {
      "cell_type": "code",
      "source": [
        "# Beolvasás sikerességének ellenőrzése\n",
        "X.head()"
      ],
      "metadata": {
        "colab": {
          "base_uri": "https://localhost:8080/",
          "height": 206
        },
        "id": "pPoUiyg42h7N",
        "outputId": "3cab6cf3-e0e4-4eb1-e4f7-4a326bec5278"
      },
      "execution_count": 277,
      "outputs": [
        {
          "output_type": "execute_result",
          "data": {
            "text/plain": [
              "   Index                   Title             Artist                Genre  \\\n",
              "0      1                 Sunrise        Norah Jones      adult standards   \n",
              "1      2             Black Night        Deep Purple           album rock   \n",
              "2      3          Clint Eastwood           Gorillaz  alternative hip hop   \n",
              "3      4           The Pretender       Foo Fighters    alternative metal   \n",
              "4      5  Waitin' On A Sunny Day  Bruce Springsteen         classic rock   \n",
              "\n",
              "   Year  BPM  Energy  Danceability  Loudness  Liveness  Valence  Length  \\\n",
              "0  2004  157      30            53       -14        11       68     201   \n",
              "1  2000  135      79            50       -11        17       81     207   \n",
              "2  2001  168      69            66        -9         7       52     341   \n",
              "3  2007  173      96            43        -4         3       37     269   \n",
              "4  2002  106      82            58        -5        10       87     256   \n",
              "\n",
              "   Acousticness  Speechiness  \n",
              "0            94            3  \n",
              "1            17            7  \n",
              "2             2           17  \n",
              "3             0            4  \n",
              "4             1            3  "
            ],
            "text/html": [
              "\n",
              "  <div id=\"df-cb890f79-8b9f-4b4a-b5f6-2abbd79f8cf2\">\n",
              "    <div class=\"colab-df-container\">\n",
              "      <div>\n",
              "<style scoped>\n",
              "    .dataframe tbody tr th:only-of-type {\n",
              "        vertical-align: middle;\n",
              "    }\n",
              "\n",
              "    .dataframe tbody tr th {\n",
              "        vertical-align: top;\n",
              "    }\n",
              "\n",
              "    .dataframe thead th {\n",
              "        text-align: right;\n",
              "    }\n",
              "</style>\n",
              "<table border=\"1\" class=\"dataframe\">\n",
              "  <thead>\n",
              "    <tr style=\"text-align: right;\">\n",
              "      <th></th>\n",
              "      <th>Index</th>\n",
              "      <th>Title</th>\n",
              "      <th>Artist</th>\n",
              "      <th>Genre</th>\n",
              "      <th>Year</th>\n",
              "      <th>BPM</th>\n",
              "      <th>Energy</th>\n",
              "      <th>Danceability</th>\n",
              "      <th>Loudness</th>\n",
              "      <th>Liveness</th>\n",
              "      <th>Valence</th>\n",
              "      <th>Length</th>\n",
              "      <th>Acousticness</th>\n",
              "      <th>Speechiness</th>\n",
              "    </tr>\n",
              "  </thead>\n",
              "  <tbody>\n",
              "    <tr>\n",
              "      <th>0</th>\n",
              "      <td>1</td>\n",
              "      <td>Sunrise</td>\n",
              "      <td>Norah Jones</td>\n",
              "      <td>adult standards</td>\n",
              "      <td>2004</td>\n",
              "      <td>157</td>\n",
              "      <td>30</td>\n",
              "      <td>53</td>\n",
              "      <td>-14</td>\n",
              "      <td>11</td>\n",
              "      <td>68</td>\n",
              "      <td>201</td>\n",
              "      <td>94</td>\n",
              "      <td>3</td>\n",
              "    </tr>\n",
              "    <tr>\n",
              "      <th>1</th>\n",
              "      <td>2</td>\n",
              "      <td>Black Night</td>\n",
              "      <td>Deep Purple</td>\n",
              "      <td>album rock</td>\n",
              "      <td>2000</td>\n",
              "      <td>135</td>\n",
              "      <td>79</td>\n",
              "      <td>50</td>\n",
              "      <td>-11</td>\n",
              "      <td>17</td>\n",
              "      <td>81</td>\n",
              "      <td>207</td>\n",
              "      <td>17</td>\n",
              "      <td>7</td>\n",
              "    </tr>\n",
              "    <tr>\n",
              "      <th>2</th>\n",
              "      <td>3</td>\n",
              "      <td>Clint Eastwood</td>\n",
              "      <td>Gorillaz</td>\n",
              "      <td>alternative hip hop</td>\n",
              "      <td>2001</td>\n",
              "      <td>168</td>\n",
              "      <td>69</td>\n",
              "      <td>66</td>\n",
              "      <td>-9</td>\n",
              "      <td>7</td>\n",
              "      <td>52</td>\n",
              "      <td>341</td>\n",
              "      <td>2</td>\n",
              "      <td>17</td>\n",
              "    </tr>\n",
              "    <tr>\n",
              "      <th>3</th>\n",
              "      <td>4</td>\n",
              "      <td>The Pretender</td>\n",
              "      <td>Foo Fighters</td>\n",
              "      <td>alternative metal</td>\n",
              "      <td>2007</td>\n",
              "      <td>173</td>\n",
              "      <td>96</td>\n",
              "      <td>43</td>\n",
              "      <td>-4</td>\n",
              "      <td>3</td>\n",
              "      <td>37</td>\n",
              "      <td>269</td>\n",
              "      <td>0</td>\n",
              "      <td>4</td>\n",
              "    </tr>\n",
              "    <tr>\n",
              "      <th>4</th>\n",
              "      <td>5</td>\n",
              "      <td>Waitin' On A Sunny Day</td>\n",
              "      <td>Bruce Springsteen</td>\n",
              "      <td>classic rock</td>\n",
              "      <td>2002</td>\n",
              "      <td>106</td>\n",
              "      <td>82</td>\n",
              "      <td>58</td>\n",
              "      <td>-5</td>\n",
              "      <td>10</td>\n",
              "      <td>87</td>\n",
              "      <td>256</td>\n",
              "      <td>1</td>\n",
              "      <td>3</td>\n",
              "    </tr>\n",
              "  </tbody>\n",
              "</table>\n",
              "</div>\n",
              "      <button class=\"colab-df-convert\" onclick=\"convertToInteractive('df-cb890f79-8b9f-4b4a-b5f6-2abbd79f8cf2')\"\n",
              "              title=\"Convert this dataframe to an interactive table.\"\n",
              "              style=\"display:none;\">\n",
              "        \n",
              "  <svg xmlns=\"http://www.w3.org/2000/svg\" height=\"24px\"viewBox=\"0 0 24 24\"\n",
              "       width=\"24px\">\n",
              "    <path d=\"M0 0h24v24H0V0z\" fill=\"none\"/>\n",
              "    <path d=\"M18.56 5.44l.94 2.06.94-2.06 2.06-.94-2.06-.94-.94-2.06-.94 2.06-2.06.94zm-11 1L8.5 8.5l.94-2.06 2.06-.94-2.06-.94L8.5 2.5l-.94 2.06-2.06.94zm10 10l.94 2.06.94-2.06 2.06-.94-2.06-.94-.94-2.06-.94 2.06-2.06.94z\"/><path d=\"M17.41 7.96l-1.37-1.37c-.4-.4-.92-.59-1.43-.59-.52 0-1.04.2-1.43.59L10.3 9.45l-7.72 7.72c-.78.78-.78 2.05 0 2.83L4 21.41c.39.39.9.59 1.41.59.51 0 1.02-.2 1.41-.59l7.78-7.78 2.81-2.81c.8-.78.8-2.07 0-2.86zM5.41 20L4 18.59l7.72-7.72 1.47 1.35L5.41 20z\"/>\n",
              "  </svg>\n",
              "      </button>\n",
              "      \n",
              "  <style>\n",
              "    .colab-df-container {\n",
              "      display:flex;\n",
              "      flex-wrap:wrap;\n",
              "      gap: 12px;\n",
              "    }\n",
              "\n",
              "    .colab-df-convert {\n",
              "      background-color: #E8F0FE;\n",
              "      border: none;\n",
              "      border-radius: 50%;\n",
              "      cursor: pointer;\n",
              "      display: none;\n",
              "      fill: #1967D2;\n",
              "      height: 32px;\n",
              "      padding: 0 0 0 0;\n",
              "      width: 32px;\n",
              "    }\n",
              "\n",
              "    .colab-df-convert:hover {\n",
              "      background-color: #E2EBFA;\n",
              "      box-shadow: 0px 1px 2px rgba(60, 64, 67, 0.3), 0px 1px 3px 1px rgba(60, 64, 67, 0.15);\n",
              "      fill: #174EA6;\n",
              "    }\n",
              "\n",
              "    [theme=dark] .colab-df-convert {\n",
              "      background-color: #3B4455;\n",
              "      fill: #D2E3FC;\n",
              "    }\n",
              "\n",
              "    [theme=dark] .colab-df-convert:hover {\n",
              "      background-color: #434B5C;\n",
              "      box-shadow: 0px 1px 3px 1px rgba(0, 0, 0, 0.15);\n",
              "      filter: drop-shadow(0px 1px 2px rgba(0, 0, 0, 0.3));\n",
              "      fill: #FFFFFF;\n",
              "    }\n",
              "  </style>\n",
              "\n",
              "      <script>\n",
              "        const buttonEl =\n",
              "          document.querySelector('#df-cb890f79-8b9f-4b4a-b5f6-2abbd79f8cf2 button.colab-df-convert');\n",
              "        buttonEl.style.display =\n",
              "          google.colab.kernel.accessAllowed ? 'block' : 'none';\n",
              "\n",
              "        async function convertToInteractive(key) {\n",
              "          const element = document.querySelector('#df-cb890f79-8b9f-4b4a-b5f6-2abbd79f8cf2');\n",
              "          const dataTable =\n",
              "            await google.colab.kernel.invokeFunction('convertToInteractive',\n",
              "                                                     [key], {});\n",
              "          if (!dataTable) return;\n",
              "\n",
              "          const docLinkHtml = 'Like what you see? Visit the ' +\n",
              "            '<a target=\"_blank\" href=https://colab.research.google.com/notebooks/data_table.ipynb>data table notebook</a>'\n",
              "            + ' to learn more about interactive tables.';\n",
              "          element.innerHTML = '';\n",
              "          dataTable['output_type'] = 'display_data';\n",
              "          await google.colab.output.renderOutput(dataTable, element);\n",
              "          const docLink = document.createElement('div');\n",
              "          docLink.innerHTML = docLinkHtml;\n",
              "          element.appendChild(docLink);\n",
              "        }\n",
              "      </script>\n",
              "    </div>\n",
              "  </div>\n",
              "  "
            ]
          },
          "metadata": {},
          "execution_count": 277
        }
      ]
    },
    {
      "cell_type": "code",
      "source": [
        "# Felesleges oszlopok törlése (főleg szöveges mezők törlése, illetve az Index oszlop felesleges)\n",
        "X = X.drop(columns=['Index', 'Genre', 'Artist', 'Title'])\n",
        "y = y.drop(columns=['Index'])\n",
        "y = y.values.ravel()"
      ],
      "metadata": {
        "id": "JiyaXYf9xPn0"
      },
      "execution_count": 278,
      "outputs": []
    },
    {
      "cell_type": "code",
      "source": [
        "# Leíró statisztika létrehozása (törlés utáni állapot)\n",
        "X.describe()"
      ],
      "metadata": {
        "colab": {
          "base_uri": "https://localhost:8080/",
          "height": 300
        },
        "id": "tUfrLCdPlTHk",
        "outputId": "524019fd-6784-41bb-bf3b-187909882adf"
      },
      "execution_count": 279,
      "outputs": [
        {
          "output_type": "execute_result",
          "data": {
            "text/plain": [
              "              Year          BPM       Energy  Danceability     Loudness  \\\n",
              "count  1994.000000  1994.000000  1994.000000   1994.000000  1994.000000   \n",
              "mean   1992.992979   120.215647    59.679539     53.238215    -9.008526   \n",
              "std      16.116048    28.028096    22.154322     15.351507     3.647876   \n",
              "min    1956.000000    37.000000     3.000000     10.000000   -27.000000   \n",
              "25%    1979.000000    99.000000    42.000000     43.000000   -11.000000   \n",
              "50%    1993.000000   119.000000    61.000000     53.000000    -8.000000   \n",
              "75%    2007.000000   136.000000    78.000000     64.000000    -6.000000   \n",
              "max    2019.000000   206.000000   100.000000     96.000000    -2.000000   \n",
              "\n",
              "          Liveness      Valence       Length  Acousticness  Speechiness  \n",
              "count  1994.000000  1994.000000  1994.000000   1994.000000  1994.000000  \n",
              "mean     19.012036    49.408726   262.443330     28.858074     4.994985  \n",
              "std      16.727378    24.858212    93.604387     29.011986     4.401566  \n",
              "min       2.000000     3.000000    93.000000      0.000000     2.000000  \n",
              "25%       9.000000    29.000000   212.000000      3.000000     3.000000  \n",
              "50%      12.000000    47.000000   245.000000     18.000000     4.000000  \n",
              "75%      23.000000    69.750000   289.000000     50.000000     5.000000  \n",
              "max      99.000000    99.000000  1412.000000     99.000000    55.000000  "
            ],
            "text/html": [
              "\n",
              "  <div id=\"df-027d52df-8068-4054-9ab1-37fb3148be1b\">\n",
              "    <div class=\"colab-df-container\">\n",
              "      <div>\n",
              "<style scoped>\n",
              "    .dataframe tbody tr th:only-of-type {\n",
              "        vertical-align: middle;\n",
              "    }\n",
              "\n",
              "    .dataframe tbody tr th {\n",
              "        vertical-align: top;\n",
              "    }\n",
              "\n",
              "    .dataframe thead th {\n",
              "        text-align: right;\n",
              "    }\n",
              "</style>\n",
              "<table border=\"1\" class=\"dataframe\">\n",
              "  <thead>\n",
              "    <tr style=\"text-align: right;\">\n",
              "      <th></th>\n",
              "      <th>Year</th>\n",
              "      <th>BPM</th>\n",
              "      <th>Energy</th>\n",
              "      <th>Danceability</th>\n",
              "      <th>Loudness</th>\n",
              "      <th>Liveness</th>\n",
              "      <th>Valence</th>\n",
              "      <th>Length</th>\n",
              "      <th>Acousticness</th>\n",
              "      <th>Speechiness</th>\n",
              "    </tr>\n",
              "  </thead>\n",
              "  <tbody>\n",
              "    <tr>\n",
              "      <th>count</th>\n",
              "      <td>1994.000000</td>\n",
              "      <td>1994.000000</td>\n",
              "      <td>1994.000000</td>\n",
              "      <td>1994.000000</td>\n",
              "      <td>1994.000000</td>\n",
              "      <td>1994.000000</td>\n",
              "      <td>1994.000000</td>\n",
              "      <td>1994.000000</td>\n",
              "      <td>1994.000000</td>\n",
              "      <td>1994.000000</td>\n",
              "    </tr>\n",
              "    <tr>\n",
              "      <th>mean</th>\n",
              "      <td>1992.992979</td>\n",
              "      <td>120.215647</td>\n",
              "      <td>59.679539</td>\n",
              "      <td>53.238215</td>\n",
              "      <td>-9.008526</td>\n",
              "      <td>19.012036</td>\n",
              "      <td>49.408726</td>\n",
              "      <td>262.443330</td>\n",
              "      <td>28.858074</td>\n",
              "      <td>4.994985</td>\n",
              "    </tr>\n",
              "    <tr>\n",
              "      <th>std</th>\n",
              "      <td>16.116048</td>\n",
              "      <td>28.028096</td>\n",
              "      <td>22.154322</td>\n",
              "      <td>15.351507</td>\n",
              "      <td>3.647876</td>\n",
              "      <td>16.727378</td>\n",
              "      <td>24.858212</td>\n",
              "      <td>93.604387</td>\n",
              "      <td>29.011986</td>\n",
              "      <td>4.401566</td>\n",
              "    </tr>\n",
              "    <tr>\n",
              "      <th>min</th>\n",
              "      <td>1956.000000</td>\n",
              "      <td>37.000000</td>\n",
              "      <td>3.000000</td>\n",
              "      <td>10.000000</td>\n",
              "      <td>-27.000000</td>\n",
              "      <td>2.000000</td>\n",
              "      <td>3.000000</td>\n",
              "      <td>93.000000</td>\n",
              "      <td>0.000000</td>\n",
              "      <td>2.000000</td>\n",
              "    </tr>\n",
              "    <tr>\n",
              "      <th>25%</th>\n",
              "      <td>1979.000000</td>\n",
              "      <td>99.000000</td>\n",
              "      <td>42.000000</td>\n",
              "      <td>43.000000</td>\n",
              "      <td>-11.000000</td>\n",
              "      <td>9.000000</td>\n",
              "      <td>29.000000</td>\n",
              "      <td>212.000000</td>\n",
              "      <td>3.000000</td>\n",
              "      <td>3.000000</td>\n",
              "    </tr>\n",
              "    <tr>\n",
              "      <th>50%</th>\n",
              "      <td>1993.000000</td>\n",
              "      <td>119.000000</td>\n",
              "      <td>61.000000</td>\n",
              "      <td>53.000000</td>\n",
              "      <td>-8.000000</td>\n",
              "      <td>12.000000</td>\n",
              "      <td>47.000000</td>\n",
              "      <td>245.000000</td>\n",
              "      <td>18.000000</td>\n",
              "      <td>4.000000</td>\n",
              "    </tr>\n",
              "    <tr>\n",
              "      <th>75%</th>\n",
              "      <td>2007.000000</td>\n",
              "      <td>136.000000</td>\n",
              "      <td>78.000000</td>\n",
              "      <td>64.000000</td>\n",
              "      <td>-6.000000</td>\n",
              "      <td>23.000000</td>\n",
              "      <td>69.750000</td>\n",
              "      <td>289.000000</td>\n",
              "      <td>50.000000</td>\n",
              "      <td>5.000000</td>\n",
              "    </tr>\n",
              "    <tr>\n",
              "      <th>max</th>\n",
              "      <td>2019.000000</td>\n",
              "      <td>206.000000</td>\n",
              "      <td>100.000000</td>\n",
              "      <td>96.000000</td>\n",
              "      <td>-2.000000</td>\n",
              "      <td>99.000000</td>\n",
              "      <td>99.000000</td>\n",
              "      <td>1412.000000</td>\n",
              "      <td>99.000000</td>\n",
              "      <td>55.000000</td>\n",
              "    </tr>\n",
              "  </tbody>\n",
              "</table>\n",
              "</div>\n",
              "      <button class=\"colab-df-convert\" onclick=\"convertToInteractive('df-027d52df-8068-4054-9ab1-37fb3148be1b')\"\n",
              "              title=\"Convert this dataframe to an interactive table.\"\n",
              "              style=\"display:none;\">\n",
              "        \n",
              "  <svg xmlns=\"http://www.w3.org/2000/svg\" height=\"24px\"viewBox=\"0 0 24 24\"\n",
              "       width=\"24px\">\n",
              "    <path d=\"M0 0h24v24H0V0z\" fill=\"none\"/>\n",
              "    <path d=\"M18.56 5.44l.94 2.06.94-2.06 2.06-.94-2.06-.94-.94-2.06-.94 2.06-2.06.94zm-11 1L8.5 8.5l.94-2.06 2.06-.94-2.06-.94L8.5 2.5l-.94 2.06-2.06.94zm10 10l.94 2.06.94-2.06 2.06-.94-2.06-.94-.94-2.06-.94 2.06-2.06.94z\"/><path d=\"M17.41 7.96l-1.37-1.37c-.4-.4-.92-.59-1.43-.59-.52 0-1.04.2-1.43.59L10.3 9.45l-7.72 7.72c-.78.78-.78 2.05 0 2.83L4 21.41c.39.39.9.59 1.41.59.51 0 1.02-.2 1.41-.59l7.78-7.78 2.81-2.81c.8-.78.8-2.07 0-2.86zM5.41 20L4 18.59l7.72-7.72 1.47 1.35L5.41 20z\"/>\n",
              "  </svg>\n",
              "      </button>\n",
              "      \n",
              "  <style>\n",
              "    .colab-df-container {\n",
              "      display:flex;\n",
              "      flex-wrap:wrap;\n",
              "      gap: 12px;\n",
              "    }\n",
              "\n",
              "    .colab-df-convert {\n",
              "      background-color: #E8F0FE;\n",
              "      border: none;\n",
              "      border-radius: 50%;\n",
              "      cursor: pointer;\n",
              "      display: none;\n",
              "      fill: #1967D2;\n",
              "      height: 32px;\n",
              "      padding: 0 0 0 0;\n",
              "      width: 32px;\n",
              "    }\n",
              "\n",
              "    .colab-df-convert:hover {\n",
              "      background-color: #E2EBFA;\n",
              "      box-shadow: 0px 1px 2px rgba(60, 64, 67, 0.3), 0px 1px 3px 1px rgba(60, 64, 67, 0.15);\n",
              "      fill: #174EA6;\n",
              "    }\n",
              "\n",
              "    [theme=dark] .colab-df-convert {\n",
              "      background-color: #3B4455;\n",
              "      fill: #D2E3FC;\n",
              "    }\n",
              "\n",
              "    [theme=dark] .colab-df-convert:hover {\n",
              "      background-color: #434B5C;\n",
              "      box-shadow: 0px 1px 3px 1px rgba(0, 0, 0, 0.15);\n",
              "      filter: drop-shadow(0px 1px 2px rgba(0, 0, 0, 0.3));\n",
              "      fill: #FFFFFF;\n",
              "    }\n",
              "  </style>\n",
              "\n",
              "      <script>\n",
              "        const buttonEl =\n",
              "          document.querySelector('#df-027d52df-8068-4054-9ab1-37fb3148be1b button.colab-df-convert');\n",
              "        buttonEl.style.display =\n",
              "          google.colab.kernel.accessAllowed ? 'block' : 'none';\n",
              "\n",
              "        async function convertToInteractive(key) {\n",
              "          const element = document.querySelector('#df-027d52df-8068-4054-9ab1-37fb3148be1b');\n",
              "          const dataTable =\n",
              "            await google.colab.kernel.invokeFunction('convertToInteractive',\n",
              "                                                     [key], {});\n",
              "          if (!dataTable) return;\n",
              "\n",
              "          const docLinkHtml = 'Like what you see? Visit the ' +\n",
              "            '<a target=\"_blank\" href=https://colab.research.google.com/notebooks/data_table.ipynb>data table notebook</a>'\n",
              "            + ' to learn more about interactive tables.';\n",
              "          element.innerHTML = '';\n",
              "          dataTable['output_type'] = 'display_data';\n",
              "          await google.colab.output.renderOutput(dataTable, element);\n",
              "          const docLink = document.createElement('div');\n",
              "          docLink.innerHTML = docLinkHtml;\n",
              "          element.appendChild(docLink);\n",
              "        }\n",
              "      </script>\n",
              "    </div>\n",
              "  </div>\n",
              "  "
            ]
          },
          "metadata": {},
          "execution_count": 279
        }
      ]
    },
    {
      "cell_type": "code",
      "source": [
        "# Listává konvertálás, obj használata helyett\n",
        "col = X.columns.tolist()"
      ],
      "metadata": {
        "id": "lz7SFx393Udi"
      },
      "execution_count": 280,
      "outputs": []
    },
    {
      "cell_type": "code",
      "source": [
        "# Mátrix látrehozása az összes lent megadott oszlop 9sszes rekordjához (One hot Encode features)\n",
        "onehot_cat = ['Speechiness', 'Energy', 'Danceability', 'Year']\n",
        "# https://scikit-learn.org/stable/modules/generated/sklearn.preprocessing.OneHotEncoder.html"
      ],
      "metadata": {
        "id": "9K5d_2HIVDO_"
      },
      "execution_count": 283,
      "outputs": []
    },
    {
      "cell_type": "code",
      "source": [
        "con_cat = [i for i in col if i not in onehot_cat]"
      ],
      "metadata": {
        "id": "v-fhllDDVL0b"
      },
      "execution_count": 285,
      "outputs": []
    },
    {
      "cell_type": "code",
      "source": [
        "cat_pipe = Pipeline([\n",
        "    ('ohe', OneHotEncoder(handle_unknown='ignore')),\n",
        "    ('imputer', SimpleImputer(strategy='most_frequent', add_indicator=True))\n",
        "])"
      ],
      "metadata": {
        "id": "M09oe4EWVNzK"
      },
      "execution_count": 288,
      "outputs": []
    },
    {
      "cell_type": "code",
      "source": [
        "con_pipe = Pipeline([\n",
        "    ('SS', StandardScaler()),\n",
        "    ('KNN', KNNImputer(n_neighbors=5))\n",
        "])"
      ],
      "metadata": {
        "id": "gRM_-mqlVPMD"
      },
      "execution_count": 289,
      "outputs": []
    },
    {
      "cell_type": "code",
      "source": [
        "preprocessor = ColumnTransformer([\n",
        "    ('categorical', cat_pipe, onehot_cat),\n",
        "    ('continuous', con_pipe, con_cat)\n",
        "])"
      ],
      "metadata": {
        "id": "7TDDMDaUVSbu"
      },
      "execution_count": 290,
      "outputs": []
    },
    {
      "cell_type": "code",
      "source": [
        "model_final = BaggingRegressor(n_estimators=50, max_features=1.0, n_jobs=-1)\n",
        "model_final_pipe = Pipeline([('preprocessor', preprocessor),\n",
        "                             ('bag', TransformedTargetRegressor(regressor=model_final,\n",
        "                                                                transformer=QuantileTransformer(n_quantiles=300,\n",
        "                                                                                                output_distribution='normal')))])"
      ],
      "metadata": {
        "id": "8pE5DyqKVVPl"
      },
      "execution_count": 291,
      "outputs": []
    },
    {
      "cell_type": "code",
      "source": [
        "model_final_pipe.fit(X, y)"
      ],
      "metadata": {
        "colab": {
          "base_uri": "https://localhost:8080/",
          "height": 263
        },
        "id": "BQsNtKsnVXEa",
        "outputId": "5eba721d-0927-4e54-bbad-8c764776de51"
      },
      "execution_count": 292,
      "outputs": [
        {
          "output_type": "execute_result",
          "data": {
            "text/plain": [
              "Pipeline(steps=[('preprocessor',\n",
              "                 ColumnTransformer(transformers=[('categorical',\n",
              "                                                  Pipeline(steps=[('ohe',\n",
              "                                                                   OneHotEncoder(handle_unknown='ignore')),\n",
              "                                                                  ('imputer',\n",
              "                                                                   SimpleImputer(add_indicator=True,\n",
              "                                                                                 strategy='most_frequent'))]),\n",
              "                                                  ['Speechiness', 'Energy',\n",
              "                                                   'Danceability', 'Year']),\n",
              "                                                 ('continuous',\n",
              "                                                  Pipeline(steps=[('SS',\n",
              "                                                                   StandardScaler()),\n",
              "                                                                  ('KNN',\n",
              "                                                                   KNNImputer())]),\n",
              "                                                  ['BPM', 'Loudness',\n",
              "                                                   'Liveness', 'Valence',\n",
              "                                                   'Length',\n",
              "                                                   'Acousticness'])])),\n",
              "                ('bag',\n",
              "                 TransformedTargetRegressor(regressor=BaggingRegressor(n_estimators=50,\n",
              "                                                                       n_jobs=-1),\n",
              "                                            transformer=QuantileTransformer(n_quantiles=300,\n",
              "                                                                            output_distribution='normal')))])"
            ],
            "text/html": [
              "<style>#sk-8820cbd1-9350-4d6c-bef0-6148754602a1 {color: black;background-color: white;}#sk-8820cbd1-9350-4d6c-bef0-6148754602a1 pre{padding: 0;}#sk-8820cbd1-9350-4d6c-bef0-6148754602a1 div.sk-toggleable {background-color: white;}#sk-8820cbd1-9350-4d6c-bef0-6148754602a1 label.sk-toggleable__label {cursor: pointer;display: block;width: 100%;margin-bottom: 0;padding: 0.3em;box-sizing: border-box;text-align: center;}#sk-8820cbd1-9350-4d6c-bef0-6148754602a1 label.sk-toggleable__label-arrow:before {content: \"▸\";float: left;margin-right: 0.25em;color: #696969;}#sk-8820cbd1-9350-4d6c-bef0-6148754602a1 label.sk-toggleable__label-arrow:hover:before {color: black;}#sk-8820cbd1-9350-4d6c-bef0-6148754602a1 div.sk-estimator:hover label.sk-toggleable__label-arrow:before {color: black;}#sk-8820cbd1-9350-4d6c-bef0-6148754602a1 div.sk-toggleable__content {max-height: 0;max-width: 0;overflow: hidden;text-align: left;background-color: #f0f8ff;}#sk-8820cbd1-9350-4d6c-bef0-6148754602a1 div.sk-toggleable__content pre {margin: 0.2em;color: black;border-radius: 0.25em;background-color: #f0f8ff;}#sk-8820cbd1-9350-4d6c-bef0-6148754602a1 input.sk-toggleable__control:checked~div.sk-toggleable__content {max-height: 200px;max-width: 100%;overflow: auto;}#sk-8820cbd1-9350-4d6c-bef0-6148754602a1 input.sk-toggleable__control:checked~label.sk-toggleable__label-arrow:before {content: \"▾\";}#sk-8820cbd1-9350-4d6c-bef0-6148754602a1 div.sk-estimator input.sk-toggleable__control:checked~label.sk-toggleable__label {background-color: #d4ebff;}#sk-8820cbd1-9350-4d6c-bef0-6148754602a1 div.sk-label input.sk-toggleable__control:checked~label.sk-toggleable__label {background-color: #d4ebff;}#sk-8820cbd1-9350-4d6c-bef0-6148754602a1 input.sk-hidden--visually {border: 0;clip: rect(1px 1px 1px 1px);clip: rect(1px, 1px, 1px, 1px);height: 1px;margin: -1px;overflow: hidden;padding: 0;position: absolute;width: 1px;}#sk-8820cbd1-9350-4d6c-bef0-6148754602a1 div.sk-estimator {font-family: monospace;background-color: #f0f8ff;border: 1px dotted black;border-radius: 0.25em;box-sizing: border-box;margin-bottom: 0.5em;}#sk-8820cbd1-9350-4d6c-bef0-6148754602a1 div.sk-estimator:hover {background-color: #d4ebff;}#sk-8820cbd1-9350-4d6c-bef0-6148754602a1 div.sk-parallel-item::after {content: \"\";width: 100%;border-bottom: 1px solid gray;flex-grow: 1;}#sk-8820cbd1-9350-4d6c-bef0-6148754602a1 div.sk-label:hover label.sk-toggleable__label {background-color: #d4ebff;}#sk-8820cbd1-9350-4d6c-bef0-6148754602a1 div.sk-serial::before {content: \"\";position: absolute;border-left: 1px solid gray;box-sizing: border-box;top: 2em;bottom: 0;left: 50%;}#sk-8820cbd1-9350-4d6c-bef0-6148754602a1 div.sk-serial {display: flex;flex-direction: column;align-items: center;background-color: white;padding-right: 0.2em;padding-left: 0.2em;}#sk-8820cbd1-9350-4d6c-bef0-6148754602a1 div.sk-item {z-index: 1;}#sk-8820cbd1-9350-4d6c-bef0-6148754602a1 div.sk-parallel {display: flex;align-items: stretch;justify-content: center;background-color: white;}#sk-8820cbd1-9350-4d6c-bef0-6148754602a1 div.sk-parallel::before {content: \"\";position: absolute;border-left: 1px solid gray;box-sizing: border-box;top: 2em;bottom: 0;left: 50%;}#sk-8820cbd1-9350-4d6c-bef0-6148754602a1 div.sk-parallel-item {display: flex;flex-direction: column;position: relative;background-color: white;}#sk-8820cbd1-9350-4d6c-bef0-6148754602a1 div.sk-parallel-item:first-child::after {align-self: flex-end;width: 50%;}#sk-8820cbd1-9350-4d6c-bef0-6148754602a1 div.sk-parallel-item:last-child::after {align-self: flex-start;width: 50%;}#sk-8820cbd1-9350-4d6c-bef0-6148754602a1 div.sk-parallel-item:only-child::after {width: 0;}#sk-8820cbd1-9350-4d6c-bef0-6148754602a1 div.sk-dashed-wrapped {border: 1px dashed gray;margin: 0 0.4em 0.5em 0.4em;box-sizing: border-box;padding-bottom: 0.4em;background-color: white;position: relative;}#sk-8820cbd1-9350-4d6c-bef0-6148754602a1 div.sk-label label {font-family: monospace;font-weight: bold;background-color: white;display: inline-block;line-height: 1.2em;}#sk-8820cbd1-9350-4d6c-bef0-6148754602a1 div.sk-label-container {position: relative;z-index: 2;text-align: center;}#sk-8820cbd1-9350-4d6c-bef0-6148754602a1 div.sk-container {/* jupyter's `normalize.less` sets `[hidden] { display: none; }` but bootstrap.min.css set `[hidden] { display: none !important; }` so we also need the `!important` here to be able to override the default hidden behavior on the sphinx rendered scikit-learn.org. See: https://github.com/scikit-learn/scikit-learn/issues/21755 */display: inline-block !important;position: relative;}#sk-8820cbd1-9350-4d6c-bef0-6148754602a1 div.sk-text-repr-fallback {display: none;}</style><div id=\"sk-8820cbd1-9350-4d6c-bef0-6148754602a1\" class=\"sk-top-container\"><div class=\"sk-text-repr-fallback\"><pre>Pipeline(steps=[(&#x27;preprocessor&#x27;,\n",
              "                 ColumnTransformer(transformers=[(&#x27;categorical&#x27;,\n",
              "                                                  Pipeline(steps=[(&#x27;ohe&#x27;,\n",
              "                                                                   OneHotEncoder(handle_unknown=&#x27;ignore&#x27;)),\n",
              "                                                                  (&#x27;imputer&#x27;,\n",
              "                                                                   SimpleImputer(add_indicator=True,\n",
              "                                                                                 strategy=&#x27;most_frequent&#x27;))]),\n",
              "                                                  [&#x27;Speechiness&#x27;, &#x27;Energy&#x27;,\n",
              "                                                   &#x27;Danceability&#x27;, &#x27;Year&#x27;]),\n",
              "                                                 (&#x27;continuous&#x27;,\n",
              "                                                  Pipeline(steps=[(&#x27;SS&#x27;,\n",
              "                                                                   StandardScaler()),\n",
              "                                                                  (&#x27;KNN&#x27;,\n",
              "                                                                   KNNImputer())]),\n",
              "                                                  [&#x27;BPM&#x27;, &#x27;Loudness&#x27;,\n",
              "                                                   &#x27;Liveness&#x27;, &#x27;Valence&#x27;,\n",
              "                                                   &#x27;Length&#x27;,\n",
              "                                                   &#x27;Acousticness&#x27;])])),\n",
              "                (&#x27;bag&#x27;,\n",
              "                 TransformedTargetRegressor(regressor=BaggingRegressor(n_estimators=50,\n",
              "                                                                       n_jobs=-1),\n",
              "                                            transformer=QuantileTransformer(n_quantiles=300,\n",
              "                                                                            output_distribution=&#x27;normal&#x27;)))])</pre><b>Please rerun this cell to show the HTML repr or trust the notebook.</b></div><div class=\"sk-container\" hidden><div class=\"sk-item sk-dashed-wrapped\"><div class=\"sk-label-container\"><div class=\"sk-label sk-toggleable\"><input class=\"sk-toggleable__control sk-hidden--visually\" id=\"4223a437-fa11-4cdc-be0b-6e561b5d0010\" type=\"checkbox\" ><label for=\"4223a437-fa11-4cdc-be0b-6e561b5d0010\" class=\"sk-toggleable__label sk-toggleable__label-arrow\">Pipeline</label><div class=\"sk-toggleable__content\"><pre>Pipeline(steps=[(&#x27;preprocessor&#x27;,\n",
              "                 ColumnTransformer(transformers=[(&#x27;categorical&#x27;,\n",
              "                                                  Pipeline(steps=[(&#x27;ohe&#x27;,\n",
              "                                                                   OneHotEncoder(handle_unknown=&#x27;ignore&#x27;)),\n",
              "                                                                  (&#x27;imputer&#x27;,\n",
              "                                                                   SimpleImputer(add_indicator=True,\n",
              "                                                                                 strategy=&#x27;most_frequent&#x27;))]),\n",
              "                                                  [&#x27;Speechiness&#x27;, &#x27;Energy&#x27;,\n",
              "                                                   &#x27;Danceability&#x27;, &#x27;Year&#x27;]),\n",
              "                                                 (&#x27;continuous&#x27;,\n",
              "                                                  Pipeline(steps=[(&#x27;SS&#x27;,\n",
              "                                                                   StandardScaler()),\n",
              "                                                                  (&#x27;KNN&#x27;,\n",
              "                                                                   KNNImputer())]),\n",
              "                                                  [&#x27;BPM&#x27;, &#x27;Loudness&#x27;,\n",
              "                                                   &#x27;Liveness&#x27;, &#x27;Valence&#x27;,\n",
              "                                                   &#x27;Length&#x27;,\n",
              "                                                   &#x27;Acousticness&#x27;])])),\n",
              "                (&#x27;bag&#x27;,\n",
              "                 TransformedTargetRegressor(regressor=BaggingRegressor(n_estimators=50,\n",
              "                                                                       n_jobs=-1),\n",
              "                                            transformer=QuantileTransformer(n_quantiles=300,\n",
              "                                                                            output_distribution=&#x27;normal&#x27;)))])</pre></div></div></div><div class=\"sk-serial\"><div class=\"sk-item sk-dashed-wrapped\"><div class=\"sk-label-container\"><div class=\"sk-label sk-toggleable\"><input class=\"sk-toggleable__control sk-hidden--visually\" id=\"70b05a93-a4a3-4042-8287-08989d496e4b\" type=\"checkbox\" ><label for=\"70b05a93-a4a3-4042-8287-08989d496e4b\" class=\"sk-toggleable__label sk-toggleable__label-arrow\">preprocessor: ColumnTransformer</label><div class=\"sk-toggleable__content\"><pre>ColumnTransformer(transformers=[(&#x27;categorical&#x27;,\n",
              "                                 Pipeline(steps=[(&#x27;ohe&#x27;,\n",
              "                                                  OneHotEncoder(handle_unknown=&#x27;ignore&#x27;)),\n",
              "                                                 (&#x27;imputer&#x27;,\n",
              "                                                  SimpleImputer(add_indicator=True,\n",
              "                                                                strategy=&#x27;most_frequent&#x27;))]),\n",
              "                                 [&#x27;Speechiness&#x27;, &#x27;Energy&#x27;, &#x27;Danceability&#x27;,\n",
              "                                  &#x27;Year&#x27;]),\n",
              "                                (&#x27;continuous&#x27;,\n",
              "                                 Pipeline(steps=[(&#x27;SS&#x27;, StandardScaler()),\n",
              "                                                 (&#x27;KNN&#x27;, KNNImputer())]),\n",
              "                                 [&#x27;BPM&#x27;, &#x27;Loudness&#x27;, &#x27;Liveness&#x27;, &#x27;Valence&#x27;,\n",
              "                                  &#x27;Length&#x27;, &#x27;Acousticness&#x27;])])</pre></div></div></div><div class=\"sk-parallel\"><div class=\"sk-parallel-item\"><div class=\"sk-item\"><div class=\"sk-label-container\"><div class=\"sk-label sk-toggleable\"><input class=\"sk-toggleable__control sk-hidden--visually\" id=\"49b1aaa2-386c-4184-9b0f-5f0d05f61f58\" type=\"checkbox\" ><label for=\"49b1aaa2-386c-4184-9b0f-5f0d05f61f58\" class=\"sk-toggleable__label sk-toggleable__label-arrow\">categorical</label><div class=\"sk-toggleable__content\"><pre>[&#x27;Speechiness&#x27;, &#x27;Energy&#x27;, &#x27;Danceability&#x27;, &#x27;Year&#x27;]</pre></div></div></div><div class=\"sk-serial\"><div class=\"sk-item\"><div class=\"sk-serial\"><div class=\"sk-item\"><div class=\"sk-estimator sk-toggleable\"><input class=\"sk-toggleable__control sk-hidden--visually\" id=\"b4e5dcf4-4368-4a74-bf71-d5fd39f27e17\" type=\"checkbox\" ><label for=\"b4e5dcf4-4368-4a74-bf71-d5fd39f27e17\" class=\"sk-toggleable__label sk-toggleable__label-arrow\">OneHotEncoder</label><div class=\"sk-toggleable__content\"><pre>OneHotEncoder(handle_unknown=&#x27;ignore&#x27;)</pre></div></div></div><div class=\"sk-item\"><div class=\"sk-estimator sk-toggleable\"><input class=\"sk-toggleable__control sk-hidden--visually\" id=\"dcd35f0e-c4b7-40bf-a1eb-e6de8e70e326\" type=\"checkbox\" ><label for=\"dcd35f0e-c4b7-40bf-a1eb-e6de8e70e326\" class=\"sk-toggleable__label sk-toggleable__label-arrow\">SimpleImputer</label><div class=\"sk-toggleable__content\"><pre>SimpleImputer(add_indicator=True, strategy=&#x27;most_frequent&#x27;)</pre></div></div></div></div></div></div></div></div><div class=\"sk-parallel-item\"><div class=\"sk-item\"><div class=\"sk-label-container\"><div class=\"sk-label sk-toggleable\"><input class=\"sk-toggleable__control sk-hidden--visually\" id=\"fbdc1a23-d86f-4ef3-89c3-8d5a0b71ada9\" type=\"checkbox\" ><label for=\"fbdc1a23-d86f-4ef3-89c3-8d5a0b71ada9\" class=\"sk-toggleable__label sk-toggleable__label-arrow\">continuous</label><div class=\"sk-toggleable__content\"><pre>[&#x27;BPM&#x27;, &#x27;Loudness&#x27;, &#x27;Liveness&#x27;, &#x27;Valence&#x27;, &#x27;Length&#x27;, &#x27;Acousticness&#x27;]</pre></div></div></div><div class=\"sk-serial\"><div class=\"sk-item\"><div class=\"sk-serial\"><div class=\"sk-item\"><div class=\"sk-estimator sk-toggleable\"><input class=\"sk-toggleable__control sk-hidden--visually\" id=\"0badd8ae-0f40-41b5-9107-46ef90eec58c\" type=\"checkbox\" ><label for=\"0badd8ae-0f40-41b5-9107-46ef90eec58c\" class=\"sk-toggleable__label sk-toggleable__label-arrow\">StandardScaler</label><div class=\"sk-toggleable__content\"><pre>StandardScaler()</pre></div></div></div><div class=\"sk-item\"><div class=\"sk-estimator sk-toggleable\"><input class=\"sk-toggleable__control sk-hidden--visually\" id=\"81ef8e84-5130-4703-b1b5-f7a017e20471\" type=\"checkbox\" ><label for=\"81ef8e84-5130-4703-b1b5-f7a017e20471\" class=\"sk-toggleable__label sk-toggleable__label-arrow\">KNNImputer</label><div class=\"sk-toggleable__content\"><pre>KNNImputer()</pre></div></div></div></div></div></div></div></div></div></div><div class=\"sk-item sk-dashed-wrapped\"><div class=\"sk-label-container\"><div class=\"sk-label sk-toggleable\"><input class=\"sk-toggleable__control sk-hidden--visually\" id=\"7a086d43-31f6-46f9-beea-72bfb1fca5de\" type=\"checkbox\" ><label for=\"7a086d43-31f6-46f9-beea-72bfb1fca5de\" class=\"sk-toggleable__label sk-toggleable__label-arrow\">bag: TransformedTargetRegressor</label><div class=\"sk-toggleable__content\"><pre>TransformedTargetRegressor(regressor=BaggingRegressor(n_estimators=50,\n",
              "                                                      n_jobs=-1),\n",
              "                           transformer=QuantileTransformer(n_quantiles=300,\n",
              "                                                           output_distribution=&#x27;normal&#x27;))</pre></div></div></div><div class=\"sk-parallel\"><div class=\"sk-parallel-item\"><div class=\"sk-item\"><div class=\"sk-serial\"><div class=\"sk-item\"><div class=\"sk-estimator sk-toggleable\"><input class=\"sk-toggleable__control sk-hidden--visually\" id=\"9d52ac4f-9d54-44c9-b6d1-040b8cb9b867\" type=\"checkbox\" ><label for=\"9d52ac4f-9d54-44c9-b6d1-040b8cb9b867\" class=\"sk-toggleable__label sk-toggleable__label-arrow\">BaggingRegressor</label><div class=\"sk-toggleable__content\"><pre>BaggingRegressor(n_estimators=50, n_jobs=-1)</pre></div></div></div></div></div></div><div class=\"sk-parallel-item\"><div class=\"sk-item\"><div class=\"sk-serial\"><div class=\"sk-item\"><div class=\"sk-estimator sk-toggleable\"><input class=\"sk-toggleable__control sk-hidden--visually\" id=\"0deb4390-ddbf-40b4-8bc4-278281b191ad\" type=\"checkbox\" ><label for=\"0deb4390-ddbf-40b4-8bc4-278281b191ad\" class=\"sk-toggleable__label sk-toggleable__label-arrow\">QuantileTransformer</label><div class=\"sk-toggleable__content\"><pre>QuantileTransformer(n_quantiles=300, output_distribution=&#x27;normal&#x27;)</pre></div></div></div></div></div></div></div></div></div></div></div></div>"
            ]
          },
          "metadata": {},
          "execution_count": 292
        }
      ]
    },
    {
      "cell_type": "code",
      "source": [
        "pickle.dump(model_final_pipe, open('../data/model_final_trained.pkl', 'wb'))"
      ],
      "metadata": {
        "id": "1kLoTW-NVZtI"
      },
      "execution_count": 293,
      "outputs": []
    },
    {
      "cell_type": "code",
      "source": [
        "import numpy as np\n",
        "import pandas as pd\n",
        "from sklearn.model_selection import train_test_split\n",
        "from   sklearn.compose            import *\n",
        "from   sklearn.experimental       import enable_iterative_imputer\n",
        "from   sklearn.impute             import *\n",
        "from   sklearn.metrics            import balanced_accuracy_score # Evaluation metric 2.0 \n",
        "from   sklearn.pipeline           import Pipeline\n",
        "from   sklearn.preprocessing      import *\n",
        "from   sklearn.linear_model    import *\n",
        "from   sklearn.metrics         import mean_absolute_error\n",
        "from sklearn.base import BaseEstimator\n",
        "from   sklearn.tree import *\n",
        "from   sklearn.ensemble import *\n",
        "from sklearn.model_selection  import RandomizedSearchCV\n",
        "from sklearn.model_selection  import GridSearchCV\n",
        "from sklearn import set_config\n",
        "from sklearn.model_selection import cross_val_score"
      ],
      "metadata": {
        "id": "ZxGKqG6OWVKA"
      },
      "execution_count": 294,
      "outputs": []
    },
    {
      "cell_type": "code",
      "source": [
        "X_train, X_test, y_train, y_test = train_test_split(X, y, test_size=0.2, shuffle=True)"
      ],
      "metadata": {
        "id": "bMq81FBlWaQb"
      },
      "execution_count": 295,
      "outputs": []
    },
    {
      "cell_type": "code",
      "source": [
        "class DummyEstimator(BaseEstimator):\n",
        "    \"Pass through class, methods are present but do nothing.\"\n",
        "    def fit(self): pass\n",
        "    def score(self): pass"
      ],
      "metadata": {
        "id": "nJmCM9LhWlsJ"
      },
      "execution_count": 296,
      "outputs": []
    },
    {
      "cell_type": "code",
      "source": [
        "n_est = [100, 150] # num of trees (base_estimators)\n",
        "max_features = [0.8, 1.0] # features in base_estimators\n",
        "search_space = [{'bag': [BaggingRegressor(n_jobs=-1)], # Actual Estimator\n",
        "                 'bag__n_estimators': n_est,\n",
        "                 'bag__max_features': max_features}]\n",
        "\n",
        "bag_final_pipe = Pipeline([('preprocessor', preprocessor),\n",
        "                ('bag', TransformedTargetRegressor(regressor=DummyEstimator(),\n",
        "                                                         transformer=QuantileTransformer(n_quantiles=300,\n",
        "                                                         output_distribution='normal')))])                \n",
        "\n",
        "bag_randcv = RandomizedSearchCV(estimator=bag_final_pipe, \n",
        "                                 param_distributions=search_space,\n",
        "                                 cv=5,\n",
        "                                 scoring=['neg_root_mean_squared_error', 'neg_mean_squared_error'],\n",
        "                                 n_jobs=-1,\n",
        "                                 verbose=1,\n",
        "                                 random_state=42,\n",
        "                                 refit='neg_root_mean_squared_error')"
      ],
      "metadata": {
        "id": "3-SJ5g264IqF"
      },
      "execution_count": 297,
      "outputs": []
    },
    {
      "cell_type": "code",
      "source": [
        "bag_randcv.fit(X_train, y_train)"
      ],
      "metadata": {
        "colab": {
          "base_uri": "https://localhost:8080/",
          "height": 317
        },
        "id": "c0mXonMJ4O5N",
        "outputId": "f6ee450e-fc04-44b1-e1f1-7f5dfdf07ec2"
      },
      "execution_count": 298,
      "outputs": [
        {
          "output_type": "stream",
          "name": "stderr",
          "text": [
            "/usr/local/lib/python3.7/dist-packages/sklearn/model_selection/_search.py:296: UserWarning: The total space of parameters 4 is smaller than n_iter=10. Running 4 iterations. For exhaustive searches, use GridSearchCV.\n",
            "  UserWarning,\n"
          ]
        },
        {
          "output_type": "stream",
          "name": "stdout",
          "text": [
            "Fitting 5 folds for each of 4 candidates, totalling 20 fits\n"
          ]
        },
        {
          "output_type": "execute_result",
          "data": {
            "text/plain": [
              "RandomizedSearchCV(cv=5,\n",
              "                   estimator=Pipeline(steps=[('preprocessor',\n",
              "                                              ColumnTransformer(transformers=[('categorical',\n",
              "                                                                               Pipeline(steps=[('ohe',\n",
              "                                                                                                OneHotEncoder(handle_unknown='ignore')),\n",
              "                                                                                               ('imputer',\n",
              "                                                                                                SimpleImputer(add_indicator=True,\n",
              "                                                                                                              strategy='most_frequent'))]),\n",
              "                                                                               ['Speechiness',\n",
              "                                                                                'Energy',\n",
              "                                                                                'Danceability',\n",
              "                                                                                'Year']),\n",
              "                                                                              ('continuous',\n",
              "                                                                               Pipeline(steps=[('SS',\n",
              "                                                                                                StandardScaler())...\n",
              "                                                                         transformer=QuantileTransformer(n_quantiles=300,\n",
              "                                                                                                         output_distribution='normal')))]),\n",
              "                   n_jobs=-1,\n",
              "                   param_distributions=[{'bag': [BaggingRegressor(max_features=0.8,\n",
              "                                                                  n_estimators=100,\n",
              "                                                                  n_jobs=-1)],\n",
              "                                         'bag__max_features': [0.8, 1.0],\n",
              "                                         'bag__n_estimators': [100, 150]}],\n",
              "                   random_state=42, refit='neg_root_mean_squared_error',\n",
              "                   scoring=['neg_root_mean_squared_error',\n",
              "                            'neg_mean_squared_error'],\n",
              "                   verbose=1)"
            ],
            "text/html": [
              "<style>#sk-b885c364-003e-4337-a26e-1999a3d0e7af {color: black;background-color: white;}#sk-b885c364-003e-4337-a26e-1999a3d0e7af pre{padding: 0;}#sk-b885c364-003e-4337-a26e-1999a3d0e7af div.sk-toggleable {background-color: white;}#sk-b885c364-003e-4337-a26e-1999a3d0e7af label.sk-toggleable__label {cursor: pointer;display: block;width: 100%;margin-bottom: 0;padding: 0.3em;box-sizing: border-box;text-align: center;}#sk-b885c364-003e-4337-a26e-1999a3d0e7af label.sk-toggleable__label-arrow:before {content: \"▸\";float: left;margin-right: 0.25em;color: #696969;}#sk-b885c364-003e-4337-a26e-1999a3d0e7af label.sk-toggleable__label-arrow:hover:before {color: black;}#sk-b885c364-003e-4337-a26e-1999a3d0e7af div.sk-estimator:hover label.sk-toggleable__label-arrow:before {color: black;}#sk-b885c364-003e-4337-a26e-1999a3d0e7af div.sk-toggleable__content {max-height: 0;max-width: 0;overflow: hidden;text-align: left;background-color: #f0f8ff;}#sk-b885c364-003e-4337-a26e-1999a3d0e7af div.sk-toggleable__content pre {margin: 0.2em;color: black;border-radius: 0.25em;background-color: #f0f8ff;}#sk-b885c364-003e-4337-a26e-1999a3d0e7af input.sk-toggleable__control:checked~div.sk-toggleable__content {max-height: 200px;max-width: 100%;overflow: auto;}#sk-b885c364-003e-4337-a26e-1999a3d0e7af input.sk-toggleable__control:checked~label.sk-toggleable__label-arrow:before {content: \"▾\";}#sk-b885c364-003e-4337-a26e-1999a3d0e7af div.sk-estimator input.sk-toggleable__control:checked~label.sk-toggleable__label {background-color: #d4ebff;}#sk-b885c364-003e-4337-a26e-1999a3d0e7af div.sk-label input.sk-toggleable__control:checked~label.sk-toggleable__label {background-color: #d4ebff;}#sk-b885c364-003e-4337-a26e-1999a3d0e7af input.sk-hidden--visually {border: 0;clip: rect(1px 1px 1px 1px);clip: rect(1px, 1px, 1px, 1px);height: 1px;margin: -1px;overflow: hidden;padding: 0;position: absolute;width: 1px;}#sk-b885c364-003e-4337-a26e-1999a3d0e7af div.sk-estimator {font-family: monospace;background-color: #f0f8ff;border: 1px dotted black;border-radius: 0.25em;box-sizing: border-box;margin-bottom: 0.5em;}#sk-b885c364-003e-4337-a26e-1999a3d0e7af div.sk-estimator:hover {background-color: #d4ebff;}#sk-b885c364-003e-4337-a26e-1999a3d0e7af div.sk-parallel-item::after {content: \"\";width: 100%;border-bottom: 1px solid gray;flex-grow: 1;}#sk-b885c364-003e-4337-a26e-1999a3d0e7af div.sk-label:hover label.sk-toggleable__label {background-color: #d4ebff;}#sk-b885c364-003e-4337-a26e-1999a3d0e7af div.sk-serial::before {content: \"\";position: absolute;border-left: 1px solid gray;box-sizing: border-box;top: 2em;bottom: 0;left: 50%;}#sk-b885c364-003e-4337-a26e-1999a3d0e7af div.sk-serial {display: flex;flex-direction: column;align-items: center;background-color: white;padding-right: 0.2em;padding-left: 0.2em;}#sk-b885c364-003e-4337-a26e-1999a3d0e7af div.sk-item {z-index: 1;}#sk-b885c364-003e-4337-a26e-1999a3d0e7af div.sk-parallel {display: flex;align-items: stretch;justify-content: center;background-color: white;}#sk-b885c364-003e-4337-a26e-1999a3d0e7af div.sk-parallel::before {content: \"\";position: absolute;border-left: 1px solid gray;box-sizing: border-box;top: 2em;bottom: 0;left: 50%;}#sk-b885c364-003e-4337-a26e-1999a3d0e7af div.sk-parallel-item {display: flex;flex-direction: column;position: relative;background-color: white;}#sk-b885c364-003e-4337-a26e-1999a3d0e7af div.sk-parallel-item:first-child::after {align-self: flex-end;width: 50%;}#sk-b885c364-003e-4337-a26e-1999a3d0e7af div.sk-parallel-item:last-child::after {align-self: flex-start;width: 50%;}#sk-b885c364-003e-4337-a26e-1999a3d0e7af div.sk-parallel-item:only-child::after {width: 0;}#sk-b885c364-003e-4337-a26e-1999a3d0e7af div.sk-dashed-wrapped {border: 1px dashed gray;margin: 0 0.4em 0.5em 0.4em;box-sizing: border-box;padding-bottom: 0.4em;background-color: white;position: relative;}#sk-b885c364-003e-4337-a26e-1999a3d0e7af div.sk-label label {font-family: monospace;font-weight: bold;background-color: white;display: inline-block;line-height: 1.2em;}#sk-b885c364-003e-4337-a26e-1999a3d0e7af div.sk-label-container {position: relative;z-index: 2;text-align: center;}#sk-b885c364-003e-4337-a26e-1999a3d0e7af div.sk-container {/* jupyter's `normalize.less` sets `[hidden] { display: none; }` but bootstrap.min.css set `[hidden] { display: none !important; }` so we also need the `!important` here to be able to override the default hidden behavior on the sphinx rendered scikit-learn.org. See: https://github.com/scikit-learn/scikit-learn/issues/21755 */display: inline-block !important;position: relative;}#sk-b885c364-003e-4337-a26e-1999a3d0e7af div.sk-text-repr-fallback {display: none;}</style><div id=\"sk-b885c364-003e-4337-a26e-1999a3d0e7af\" class=\"sk-top-container\"><div class=\"sk-text-repr-fallback\"><pre>RandomizedSearchCV(cv=5,\n",
              "                   estimator=Pipeline(steps=[(&#x27;preprocessor&#x27;,\n",
              "                                              ColumnTransformer(transformers=[(&#x27;categorical&#x27;,\n",
              "                                                                               Pipeline(steps=[(&#x27;ohe&#x27;,\n",
              "                                                                                                OneHotEncoder(handle_unknown=&#x27;ignore&#x27;)),\n",
              "                                                                                               (&#x27;imputer&#x27;,\n",
              "                                                                                                SimpleImputer(add_indicator=True,\n",
              "                                                                                                              strategy=&#x27;most_frequent&#x27;))]),\n",
              "                                                                               [&#x27;Speechiness&#x27;,\n",
              "                                                                                &#x27;Energy&#x27;,\n",
              "                                                                                &#x27;Danceability&#x27;,\n",
              "                                                                                &#x27;Year&#x27;]),\n",
              "                                                                              (&#x27;continuous&#x27;,\n",
              "                                                                               Pipeline(steps=[(&#x27;SS&#x27;,\n",
              "                                                                                                StandardScaler())...\n",
              "                                                                         transformer=QuantileTransformer(n_quantiles=300,\n",
              "                                                                                                         output_distribution=&#x27;normal&#x27;)))]),\n",
              "                   n_jobs=-1,\n",
              "                   param_distributions=[{&#x27;bag&#x27;: [BaggingRegressor(max_features=0.8,\n",
              "                                                                  n_estimators=100,\n",
              "                                                                  n_jobs=-1)],\n",
              "                                         &#x27;bag__max_features&#x27;: [0.8, 1.0],\n",
              "                                         &#x27;bag__n_estimators&#x27;: [100, 150]}],\n",
              "                   random_state=42, refit=&#x27;neg_root_mean_squared_error&#x27;,\n",
              "                   scoring=[&#x27;neg_root_mean_squared_error&#x27;,\n",
              "                            &#x27;neg_mean_squared_error&#x27;],\n",
              "                   verbose=1)</pre><b>Please rerun this cell to show the HTML repr or trust the notebook.</b></div><div class=\"sk-container\" hidden><div class=\"sk-item sk-dashed-wrapped\"><div class=\"sk-label-container\"><div class=\"sk-label sk-toggleable\"><input class=\"sk-toggleable__control sk-hidden--visually\" id=\"b59c69c5-2893-4cc0-a597-22eafd2fb68d\" type=\"checkbox\" ><label for=\"b59c69c5-2893-4cc0-a597-22eafd2fb68d\" class=\"sk-toggleable__label sk-toggleable__label-arrow\">RandomizedSearchCV</label><div class=\"sk-toggleable__content\"><pre>RandomizedSearchCV(cv=5,\n",
              "                   estimator=Pipeline(steps=[(&#x27;preprocessor&#x27;,\n",
              "                                              ColumnTransformer(transformers=[(&#x27;categorical&#x27;,\n",
              "                                                                               Pipeline(steps=[(&#x27;ohe&#x27;,\n",
              "                                                                                                OneHotEncoder(handle_unknown=&#x27;ignore&#x27;)),\n",
              "                                                                                               (&#x27;imputer&#x27;,\n",
              "                                                                                                SimpleImputer(add_indicator=True,\n",
              "                                                                                                              strategy=&#x27;most_frequent&#x27;))]),\n",
              "                                                                               [&#x27;Speechiness&#x27;,\n",
              "                                                                                &#x27;Energy&#x27;,\n",
              "                                                                                &#x27;Danceability&#x27;,\n",
              "                                                                                &#x27;Year&#x27;]),\n",
              "                                                                              (&#x27;continuous&#x27;,\n",
              "                                                                               Pipeline(steps=[(&#x27;SS&#x27;,\n",
              "                                                                                                StandardScaler())...\n",
              "                                                                         transformer=QuantileTransformer(n_quantiles=300,\n",
              "                                                                                                         output_distribution=&#x27;normal&#x27;)))]),\n",
              "                   n_jobs=-1,\n",
              "                   param_distributions=[{&#x27;bag&#x27;: [BaggingRegressor(max_features=0.8,\n",
              "                                                                  n_estimators=100,\n",
              "                                                                  n_jobs=-1)],\n",
              "                                         &#x27;bag__max_features&#x27;: [0.8, 1.0],\n",
              "                                         &#x27;bag__n_estimators&#x27;: [100, 150]}],\n",
              "                   random_state=42, refit=&#x27;neg_root_mean_squared_error&#x27;,\n",
              "                   scoring=[&#x27;neg_root_mean_squared_error&#x27;,\n",
              "                            &#x27;neg_mean_squared_error&#x27;],\n",
              "                   verbose=1)</pre></div></div></div><div class=\"sk-parallel\"><div class=\"sk-parallel-item\"><div class=\"sk-item\"><div class=\"sk-serial\"><div class=\"sk-item\"><div class=\"sk-serial\"><div class=\"sk-item sk-dashed-wrapped\"><div class=\"sk-label-container\"><div class=\"sk-label sk-toggleable\"><input class=\"sk-toggleable__control sk-hidden--visually\" id=\"a1bd0079-3312-43f1-b41a-e1eec1bc39e7\" type=\"checkbox\" ><label for=\"a1bd0079-3312-43f1-b41a-e1eec1bc39e7\" class=\"sk-toggleable__label sk-toggleable__label-arrow\">preprocessor: ColumnTransformer</label><div class=\"sk-toggleable__content\"><pre>ColumnTransformer(transformers=[(&#x27;categorical&#x27;,\n",
              "                                 Pipeline(steps=[(&#x27;ohe&#x27;,\n",
              "                                                  OneHotEncoder(handle_unknown=&#x27;ignore&#x27;)),\n",
              "                                                 (&#x27;imputer&#x27;,\n",
              "                                                  SimpleImputer(add_indicator=True,\n",
              "                                                                strategy=&#x27;most_frequent&#x27;))]),\n",
              "                                 [&#x27;Speechiness&#x27;, &#x27;Energy&#x27;, &#x27;Danceability&#x27;,\n",
              "                                  &#x27;Year&#x27;]),\n",
              "                                (&#x27;continuous&#x27;,\n",
              "                                 Pipeline(steps=[(&#x27;SS&#x27;, StandardScaler()),\n",
              "                                                 (&#x27;KNN&#x27;, KNNImputer())]),\n",
              "                                 [&#x27;BPM&#x27;, &#x27;Loudness&#x27;, &#x27;Liveness&#x27;, &#x27;Valence&#x27;,\n",
              "                                  &#x27;Length&#x27;, &#x27;Acousticness&#x27;])])</pre></div></div></div><div class=\"sk-parallel\"><div class=\"sk-parallel-item\"><div class=\"sk-item\"><div class=\"sk-label-container\"><div class=\"sk-label sk-toggleable\"><input class=\"sk-toggleable__control sk-hidden--visually\" id=\"dc4b9c28-1369-4578-bf58-e303ffbabacf\" type=\"checkbox\" ><label for=\"dc4b9c28-1369-4578-bf58-e303ffbabacf\" class=\"sk-toggleable__label sk-toggleable__label-arrow\">categorical</label><div class=\"sk-toggleable__content\"><pre>[&#x27;Speechiness&#x27;, &#x27;Energy&#x27;, &#x27;Danceability&#x27;, &#x27;Year&#x27;]</pre></div></div></div><div class=\"sk-serial\"><div class=\"sk-item\"><div class=\"sk-serial\"><div class=\"sk-item\"><div class=\"sk-estimator sk-toggleable\"><input class=\"sk-toggleable__control sk-hidden--visually\" id=\"fd983b44-3b08-49db-b246-e678e2ff6bb6\" type=\"checkbox\" ><label for=\"fd983b44-3b08-49db-b246-e678e2ff6bb6\" class=\"sk-toggleable__label sk-toggleable__label-arrow\">OneHotEncoder</label><div class=\"sk-toggleable__content\"><pre>OneHotEncoder(handle_unknown=&#x27;ignore&#x27;)</pre></div></div></div><div class=\"sk-item\"><div class=\"sk-estimator sk-toggleable\"><input class=\"sk-toggleable__control sk-hidden--visually\" id=\"6c1f1634-3973-4b47-b5fa-9a437c608f96\" type=\"checkbox\" ><label for=\"6c1f1634-3973-4b47-b5fa-9a437c608f96\" class=\"sk-toggleable__label sk-toggleable__label-arrow\">SimpleImputer</label><div class=\"sk-toggleable__content\"><pre>SimpleImputer(add_indicator=True, strategy=&#x27;most_frequent&#x27;)</pre></div></div></div></div></div></div></div></div><div class=\"sk-parallel-item\"><div class=\"sk-item\"><div class=\"sk-label-container\"><div class=\"sk-label sk-toggleable\"><input class=\"sk-toggleable__control sk-hidden--visually\" id=\"4259a3dd-e1c8-4e96-ad71-710c9b73c630\" type=\"checkbox\" ><label for=\"4259a3dd-e1c8-4e96-ad71-710c9b73c630\" class=\"sk-toggleable__label sk-toggleable__label-arrow\">continuous</label><div class=\"sk-toggleable__content\"><pre>[&#x27;BPM&#x27;, &#x27;Loudness&#x27;, &#x27;Liveness&#x27;, &#x27;Valence&#x27;, &#x27;Length&#x27;, &#x27;Acousticness&#x27;]</pre></div></div></div><div class=\"sk-serial\"><div class=\"sk-item\"><div class=\"sk-serial\"><div class=\"sk-item\"><div class=\"sk-estimator sk-toggleable\"><input class=\"sk-toggleable__control sk-hidden--visually\" id=\"9b8eaaca-4c21-4c40-b65e-58b96fcd56b5\" type=\"checkbox\" ><label for=\"9b8eaaca-4c21-4c40-b65e-58b96fcd56b5\" class=\"sk-toggleable__label sk-toggleable__label-arrow\">StandardScaler</label><div class=\"sk-toggleable__content\"><pre>StandardScaler()</pre></div></div></div><div class=\"sk-item\"><div class=\"sk-estimator sk-toggleable\"><input class=\"sk-toggleable__control sk-hidden--visually\" id=\"6893baaf-39be-418f-a98e-355177909d68\" type=\"checkbox\" ><label for=\"6893baaf-39be-418f-a98e-355177909d68\" class=\"sk-toggleable__label sk-toggleable__label-arrow\">KNNImputer</label><div class=\"sk-toggleable__content\"><pre>KNNImputer()</pre></div></div></div></div></div></div></div></div></div></div><div class=\"sk-item sk-dashed-wrapped\"><div class=\"sk-label-container\"><div class=\"sk-label sk-toggleable\"><input class=\"sk-toggleable__control sk-hidden--visually\" id=\"119fb570-8749-433b-8e7d-76007e446828\" type=\"checkbox\" ><label for=\"119fb570-8749-433b-8e7d-76007e446828\" class=\"sk-toggleable__label sk-toggleable__label-arrow\">bag: TransformedTargetRegressor</label><div class=\"sk-toggleable__content\"><pre>TransformedTargetRegressor(regressor=DummyEstimator(),\n",
              "                           transformer=QuantileTransformer(n_quantiles=300,\n",
              "                                                           output_distribution=&#x27;normal&#x27;))</pre></div></div></div><div class=\"sk-parallel\"><div class=\"sk-parallel-item\"><div class=\"sk-item\"><div class=\"sk-serial\"><div class=\"sk-item\"><div class=\"sk-estimator sk-toggleable\"><input class=\"sk-toggleable__control sk-hidden--visually\" id=\"1f0f1427-b273-425d-b55a-d1377ee989e3\" type=\"checkbox\" ><label for=\"1f0f1427-b273-425d-b55a-d1377ee989e3\" class=\"sk-toggleable__label sk-toggleable__label-arrow\">DummyEstimator</label><div class=\"sk-toggleable__content\"><pre>DummyEstimator()</pre></div></div></div></div></div></div><div class=\"sk-parallel-item\"><div class=\"sk-item\"><div class=\"sk-serial\"><div class=\"sk-item\"><div class=\"sk-estimator sk-toggleable\"><input class=\"sk-toggleable__control sk-hidden--visually\" id=\"f45f88b7-9870-4346-8d9f-97e632640098\" type=\"checkbox\" ><label for=\"f45f88b7-9870-4346-8d9f-97e632640098\" class=\"sk-toggleable__label sk-toggleable__label-arrow\">QuantileTransformer</label><div class=\"sk-toggleable__content\"><pre>QuantileTransformer(n_quantiles=300, output_distribution=&#x27;normal&#x27;)</pre></div></div></div></div></div></div></div></div></div></div></div></div></div></div></div></div></div>"
            ]
          },
          "metadata": {},
          "execution_count": 298
        }
      ]
    },
    {
      "cell_type": "code",
      "source": [
        "bag_randcv.best_score_"
      ],
      "metadata": {
        "colab": {
          "base_uri": "https://localhost:8080/"
        },
        "id": "R3WFDP1c4g8s",
        "outputId": "a979eb1e-5dc0-42d0-cd8a-3f96873090f7"
      },
      "execution_count": 299,
      "outputs": [
        {
          "output_type": "execute_result",
          "data": {
            "text/plain": [
              "-13.856491891651023"
            ]
          },
          "metadata": {},
          "execution_count": 299
        }
      ]
    },
    {
      "cell_type": "code",
      "source": [
        "print(f'Bagging Regressor: {round(bag_randcv.best_score_, 3)}')"
      ],
      "metadata": {
        "colab": {
          "base_uri": "https://localhost:8080/"
        },
        "id": "DS2QHSIy5ddF",
        "outputId": "b6667bde-eee0-4459-8bc3-75beaccc39a1"
      },
      "execution_count": 300,
      "outputs": [
        {
          "output_type": "stream",
          "name": "stdout",
          "text": [
            "Bagging Regressor: -13.856\n"
          ]
        }
      ]
    },
    {
      "cell_type": "code",
      "source": [
        "bag_randcv.best_params_"
      ],
      "metadata": {
        "colab": {
          "base_uri": "https://localhost:8080/"
        },
        "id": "XDGpuUaN5h1d",
        "outputId": "7f011b8d-fe3f-4e84-ce82-def7d7d6d2ed"
      },
      "execution_count": 301,
      "outputs": [
        {
          "output_type": "execute_result",
          "data": {
            "text/plain": [
              "{'bag__n_estimators': 100,\n",
              " 'bag__max_features': 0.8,\n",
              " 'bag': BaggingRegressor(max_features=0.8, n_estimators=100, n_jobs=-1)}"
            ]
          },
          "metadata": {},
          "execution_count": 301
        }
      ]
    },
    {
      "cell_type": "code",
      "source": [
        "model_final = BaggingRegressor(n_estimators=100, max_features = 0.8, n_jobs=-1)\n",
        "model_final_pipe = Pipeline([('preprocessor', preprocessor),\n",
        "                ('bag', TransformedTargetRegressor(regressor=model_final,\n",
        "                                                         transformer=QuantileTransformer(n_quantiles=300,\n",
        "                                                         output_distribution='normal')))])\n",
        "model_final_pipe.fit(X_train, y_train)"
      ],
      "metadata": {
        "colab": {
          "base_uri": "https://localhost:8080/",
          "height": 263
        },
        "id": "HR7AbHBG5n_e",
        "outputId": "44885b09-bb89-4908-feee-23ce537dbd77"
      },
      "execution_count": 302,
      "outputs": [
        {
          "output_type": "execute_result",
          "data": {
            "text/plain": [
              "Pipeline(steps=[('preprocessor',\n",
              "                 ColumnTransformer(transformers=[('categorical',\n",
              "                                                  Pipeline(steps=[('ohe',\n",
              "                                                                   OneHotEncoder(handle_unknown='ignore')),\n",
              "                                                                  ('imputer',\n",
              "                                                                   SimpleImputer(add_indicator=True,\n",
              "                                                                                 strategy='most_frequent'))]),\n",
              "                                                  ['Speechiness', 'Energy',\n",
              "                                                   'Danceability', 'Year']),\n",
              "                                                 ('continuous',\n",
              "                                                  Pipeline(steps=[('SS',\n",
              "                                                                   StandardScaler()),\n",
              "                                                                  ('KNN',\n",
              "                                                                   KNNImputer())]),\n",
              "                                                  ['BPM', 'Loudness',\n",
              "                                                   'Liveness', 'Valence',\n",
              "                                                   'Length',\n",
              "                                                   'Acousticness'])])),\n",
              "                ('bag',\n",
              "                 TransformedTargetRegressor(regressor=BaggingRegressor(max_features=0.8,\n",
              "                                                                       n_estimators=100,\n",
              "                                                                       n_jobs=-1),\n",
              "                                            transformer=QuantileTransformer(n_quantiles=300,\n",
              "                                                                            output_distribution='normal')))])"
            ],
            "text/html": [
              "<style>#sk-1e2e6001-2c06-49a0-94ef-a7f2e1243ea4 {color: black;background-color: white;}#sk-1e2e6001-2c06-49a0-94ef-a7f2e1243ea4 pre{padding: 0;}#sk-1e2e6001-2c06-49a0-94ef-a7f2e1243ea4 div.sk-toggleable {background-color: white;}#sk-1e2e6001-2c06-49a0-94ef-a7f2e1243ea4 label.sk-toggleable__label {cursor: pointer;display: block;width: 100%;margin-bottom: 0;padding: 0.3em;box-sizing: border-box;text-align: center;}#sk-1e2e6001-2c06-49a0-94ef-a7f2e1243ea4 label.sk-toggleable__label-arrow:before {content: \"▸\";float: left;margin-right: 0.25em;color: #696969;}#sk-1e2e6001-2c06-49a0-94ef-a7f2e1243ea4 label.sk-toggleable__label-arrow:hover:before {color: black;}#sk-1e2e6001-2c06-49a0-94ef-a7f2e1243ea4 div.sk-estimator:hover label.sk-toggleable__label-arrow:before {color: black;}#sk-1e2e6001-2c06-49a0-94ef-a7f2e1243ea4 div.sk-toggleable__content {max-height: 0;max-width: 0;overflow: hidden;text-align: left;background-color: #f0f8ff;}#sk-1e2e6001-2c06-49a0-94ef-a7f2e1243ea4 div.sk-toggleable__content pre {margin: 0.2em;color: black;border-radius: 0.25em;background-color: #f0f8ff;}#sk-1e2e6001-2c06-49a0-94ef-a7f2e1243ea4 input.sk-toggleable__control:checked~div.sk-toggleable__content {max-height: 200px;max-width: 100%;overflow: auto;}#sk-1e2e6001-2c06-49a0-94ef-a7f2e1243ea4 input.sk-toggleable__control:checked~label.sk-toggleable__label-arrow:before {content: \"▾\";}#sk-1e2e6001-2c06-49a0-94ef-a7f2e1243ea4 div.sk-estimator input.sk-toggleable__control:checked~label.sk-toggleable__label {background-color: #d4ebff;}#sk-1e2e6001-2c06-49a0-94ef-a7f2e1243ea4 div.sk-label input.sk-toggleable__control:checked~label.sk-toggleable__label {background-color: #d4ebff;}#sk-1e2e6001-2c06-49a0-94ef-a7f2e1243ea4 input.sk-hidden--visually {border: 0;clip: rect(1px 1px 1px 1px);clip: rect(1px, 1px, 1px, 1px);height: 1px;margin: -1px;overflow: hidden;padding: 0;position: absolute;width: 1px;}#sk-1e2e6001-2c06-49a0-94ef-a7f2e1243ea4 div.sk-estimator {font-family: monospace;background-color: #f0f8ff;border: 1px dotted black;border-radius: 0.25em;box-sizing: border-box;margin-bottom: 0.5em;}#sk-1e2e6001-2c06-49a0-94ef-a7f2e1243ea4 div.sk-estimator:hover {background-color: #d4ebff;}#sk-1e2e6001-2c06-49a0-94ef-a7f2e1243ea4 div.sk-parallel-item::after {content: \"\";width: 100%;border-bottom: 1px solid gray;flex-grow: 1;}#sk-1e2e6001-2c06-49a0-94ef-a7f2e1243ea4 div.sk-label:hover label.sk-toggleable__label {background-color: #d4ebff;}#sk-1e2e6001-2c06-49a0-94ef-a7f2e1243ea4 div.sk-serial::before {content: \"\";position: absolute;border-left: 1px solid gray;box-sizing: border-box;top: 2em;bottom: 0;left: 50%;}#sk-1e2e6001-2c06-49a0-94ef-a7f2e1243ea4 div.sk-serial {display: flex;flex-direction: column;align-items: center;background-color: white;padding-right: 0.2em;padding-left: 0.2em;}#sk-1e2e6001-2c06-49a0-94ef-a7f2e1243ea4 div.sk-item {z-index: 1;}#sk-1e2e6001-2c06-49a0-94ef-a7f2e1243ea4 div.sk-parallel {display: flex;align-items: stretch;justify-content: center;background-color: white;}#sk-1e2e6001-2c06-49a0-94ef-a7f2e1243ea4 div.sk-parallel::before {content: \"\";position: absolute;border-left: 1px solid gray;box-sizing: border-box;top: 2em;bottom: 0;left: 50%;}#sk-1e2e6001-2c06-49a0-94ef-a7f2e1243ea4 div.sk-parallel-item {display: flex;flex-direction: column;position: relative;background-color: white;}#sk-1e2e6001-2c06-49a0-94ef-a7f2e1243ea4 div.sk-parallel-item:first-child::after {align-self: flex-end;width: 50%;}#sk-1e2e6001-2c06-49a0-94ef-a7f2e1243ea4 div.sk-parallel-item:last-child::after {align-self: flex-start;width: 50%;}#sk-1e2e6001-2c06-49a0-94ef-a7f2e1243ea4 div.sk-parallel-item:only-child::after {width: 0;}#sk-1e2e6001-2c06-49a0-94ef-a7f2e1243ea4 div.sk-dashed-wrapped {border: 1px dashed gray;margin: 0 0.4em 0.5em 0.4em;box-sizing: border-box;padding-bottom: 0.4em;background-color: white;position: relative;}#sk-1e2e6001-2c06-49a0-94ef-a7f2e1243ea4 div.sk-label label {font-family: monospace;font-weight: bold;background-color: white;display: inline-block;line-height: 1.2em;}#sk-1e2e6001-2c06-49a0-94ef-a7f2e1243ea4 div.sk-label-container {position: relative;z-index: 2;text-align: center;}#sk-1e2e6001-2c06-49a0-94ef-a7f2e1243ea4 div.sk-container {/* jupyter's `normalize.less` sets `[hidden] { display: none; }` but bootstrap.min.css set `[hidden] { display: none !important; }` so we also need the `!important` here to be able to override the default hidden behavior on the sphinx rendered scikit-learn.org. See: https://github.com/scikit-learn/scikit-learn/issues/21755 */display: inline-block !important;position: relative;}#sk-1e2e6001-2c06-49a0-94ef-a7f2e1243ea4 div.sk-text-repr-fallback {display: none;}</style><div id=\"sk-1e2e6001-2c06-49a0-94ef-a7f2e1243ea4\" class=\"sk-top-container\"><div class=\"sk-text-repr-fallback\"><pre>Pipeline(steps=[(&#x27;preprocessor&#x27;,\n",
              "                 ColumnTransformer(transformers=[(&#x27;categorical&#x27;,\n",
              "                                                  Pipeline(steps=[(&#x27;ohe&#x27;,\n",
              "                                                                   OneHotEncoder(handle_unknown=&#x27;ignore&#x27;)),\n",
              "                                                                  (&#x27;imputer&#x27;,\n",
              "                                                                   SimpleImputer(add_indicator=True,\n",
              "                                                                                 strategy=&#x27;most_frequent&#x27;))]),\n",
              "                                                  [&#x27;Speechiness&#x27;, &#x27;Energy&#x27;,\n",
              "                                                   &#x27;Danceability&#x27;, &#x27;Year&#x27;]),\n",
              "                                                 (&#x27;continuous&#x27;,\n",
              "                                                  Pipeline(steps=[(&#x27;SS&#x27;,\n",
              "                                                                   StandardScaler()),\n",
              "                                                                  (&#x27;KNN&#x27;,\n",
              "                                                                   KNNImputer())]),\n",
              "                                                  [&#x27;BPM&#x27;, &#x27;Loudness&#x27;,\n",
              "                                                   &#x27;Liveness&#x27;, &#x27;Valence&#x27;,\n",
              "                                                   &#x27;Length&#x27;,\n",
              "                                                   &#x27;Acousticness&#x27;])])),\n",
              "                (&#x27;bag&#x27;,\n",
              "                 TransformedTargetRegressor(regressor=BaggingRegressor(max_features=0.8,\n",
              "                                                                       n_estimators=100,\n",
              "                                                                       n_jobs=-1),\n",
              "                                            transformer=QuantileTransformer(n_quantiles=300,\n",
              "                                                                            output_distribution=&#x27;normal&#x27;)))])</pre><b>Please rerun this cell to show the HTML repr or trust the notebook.</b></div><div class=\"sk-container\" hidden><div class=\"sk-item sk-dashed-wrapped\"><div class=\"sk-label-container\"><div class=\"sk-label sk-toggleable\"><input class=\"sk-toggleable__control sk-hidden--visually\" id=\"810a4992-0406-4448-9e5a-1d65f2371243\" type=\"checkbox\" ><label for=\"810a4992-0406-4448-9e5a-1d65f2371243\" class=\"sk-toggleable__label sk-toggleable__label-arrow\">Pipeline</label><div class=\"sk-toggleable__content\"><pre>Pipeline(steps=[(&#x27;preprocessor&#x27;,\n",
              "                 ColumnTransformer(transformers=[(&#x27;categorical&#x27;,\n",
              "                                                  Pipeline(steps=[(&#x27;ohe&#x27;,\n",
              "                                                                   OneHotEncoder(handle_unknown=&#x27;ignore&#x27;)),\n",
              "                                                                  (&#x27;imputer&#x27;,\n",
              "                                                                   SimpleImputer(add_indicator=True,\n",
              "                                                                                 strategy=&#x27;most_frequent&#x27;))]),\n",
              "                                                  [&#x27;Speechiness&#x27;, &#x27;Energy&#x27;,\n",
              "                                                   &#x27;Danceability&#x27;, &#x27;Year&#x27;]),\n",
              "                                                 (&#x27;continuous&#x27;,\n",
              "                                                  Pipeline(steps=[(&#x27;SS&#x27;,\n",
              "                                                                   StandardScaler()),\n",
              "                                                                  (&#x27;KNN&#x27;,\n",
              "                                                                   KNNImputer())]),\n",
              "                                                  [&#x27;BPM&#x27;, &#x27;Loudness&#x27;,\n",
              "                                                   &#x27;Liveness&#x27;, &#x27;Valence&#x27;,\n",
              "                                                   &#x27;Length&#x27;,\n",
              "                                                   &#x27;Acousticness&#x27;])])),\n",
              "                (&#x27;bag&#x27;,\n",
              "                 TransformedTargetRegressor(regressor=BaggingRegressor(max_features=0.8,\n",
              "                                                                       n_estimators=100,\n",
              "                                                                       n_jobs=-1),\n",
              "                                            transformer=QuantileTransformer(n_quantiles=300,\n",
              "                                                                            output_distribution=&#x27;normal&#x27;)))])</pre></div></div></div><div class=\"sk-serial\"><div class=\"sk-item sk-dashed-wrapped\"><div class=\"sk-label-container\"><div class=\"sk-label sk-toggleable\"><input class=\"sk-toggleable__control sk-hidden--visually\" id=\"19ea2cce-659b-466e-a0d3-1ee72f6d56ee\" type=\"checkbox\" ><label for=\"19ea2cce-659b-466e-a0d3-1ee72f6d56ee\" class=\"sk-toggleable__label sk-toggleable__label-arrow\">preprocessor: ColumnTransformer</label><div class=\"sk-toggleable__content\"><pre>ColumnTransformer(transformers=[(&#x27;categorical&#x27;,\n",
              "                                 Pipeline(steps=[(&#x27;ohe&#x27;,\n",
              "                                                  OneHotEncoder(handle_unknown=&#x27;ignore&#x27;)),\n",
              "                                                 (&#x27;imputer&#x27;,\n",
              "                                                  SimpleImputer(add_indicator=True,\n",
              "                                                                strategy=&#x27;most_frequent&#x27;))]),\n",
              "                                 [&#x27;Speechiness&#x27;, &#x27;Energy&#x27;, &#x27;Danceability&#x27;,\n",
              "                                  &#x27;Year&#x27;]),\n",
              "                                (&#x27;continuous&#x27;,\n",
              "                                 Pipeline(steps=[(&#x27;SS&#x27;, StandardScaler()),\n",
              "                                                 (&#x27;KNN&#x27;, KNNImputer())]),\n",
              "                                 [&#x27;BPM&#x27;, &#x27;Loudness&#x27;, &#x27;Liveness&#x27;, &#x27;Valence&#x27;,\n",
              "                                  &#x27;Length&#x27;, &#x27;Acousticness&#x27;])])</pre></div></div></div><div class=\"sk-parallel\"><div class=\"sk-parallel-item\"><div class=\"sk-item\"><div class=\"sk-label-container\"><div class=\"sk-label sk-toggleable\"><input class=\"sk-toggleable__control sk-hidden--visually\" id=\"979e86a3-25ad-49aa-8a84-f52dbf644f31\" type=\"checkbox\" ><label for=\"979e86a3-25ad-49aa-8a84-f52dbf644f31\" class=\"sk-toggleable__label sk-toggleable__label-arrow\">categorical</label><div class=\"sk-toggleable__content\"><pre>[&#x27;Speechiness&#x27;, &#x27;Energy&#x27;, &#x27;Danceability&#x27;, &#x27;Year&#x27;]</pre></div></div></div><div class=\"sk-serial\"><div class=\"sk-item\"><div class=\"sk-serial\"><div class=\"sk-item\"><div class=\"sk-estimator sk-toggleable\"><input class=\"sk-toggleable__control sk-hidden--visually\" id=\"7f14b441-14b6-4272-8a47-5ee9a622c5b9\" type=\"checkbox\" ><label for=\"7f14b441-14b6-4272-8a47-5ee9a622c5b9\" class=\"sk-toggleable__label sk-toggleable__label-arrow\">OneHotEncoder</label><div class=\"sk-toggleable__content\"><pre>OneHotEncoder(handle_unknown=&#x27;ignore&#x27;)</pre></div></div></div><div class=\"sk-item\"><div class=\"sk-estimator sk-toggleable\"><input class=\"sk-toggleable__control sk-hidden--visually\" id=\"6cddfac4-f182-416f-ba20-1dbd691b1795\" type=\"checkbox\" ><label for=\"6cddfac4-f182-416f-ba20-1dbd691b1795\" class=\"sk-toggleable__label sk-toggleable__label-arrow\">SimpleImputer</label><div class=\"sk-toggleable__content\"><pre>SimpleImputer(add_indicator=True, strategy=&#x27;most_frequent&#x27;)</pre></div></div></div></div></div></div></div></div><div class=\"sk-parallel-item\"><div class=\"sk-item\"><div class=\"sk-label-container\"><div class=\"sk-label sk-toggleable\"><input class=\"sk-toggleable__control sk-hidden--visually\" id=\"8ee49415-94d3-4815-aa4e-3d7cb4805ff5\" type=\"checkbox\" ><label for=\"8ee49415-94d3-4815-aa4e-3d7cb4805ff5\" class=\"sk-toggleable__label sk-toggleable__label-arrow\">continuous</label><div class=\"sk-toggleable__content\"><pre>[&#x27;BPM&#x27;, &#x27;Loudness&#x27;, &#x27;Liveness&#x27;, &#x27;Valence&#x27;, &#x27;Length&#x27;, &#x27;Acousticness&#x27;]</pre></div></div></div><div class=\"sk-serial\"><div class=\"sk-item\"><div class=\"sk-serial\"><div class=\"sk-item\"><div class=\"sk-estimator sk-toggleable\"><input class=\"sk-toggleable__control sk-hidden--visually\" id=\"f1df7f01-3a9e-4645-a61b-e007d786636e\" type=\"checkbox\" ><label for=\"f1df7f01-3a9e-4645-a61b-e007d786636e\" class=\"sk-toggleable__label sk-toggleable__label-arrow\">StandardScaler</label><div class=\"sk-toggleable__content\"><pre>StandardScaler()</pre></div></div></div><div class=\"sk-item\"><div class=\"sk-estimator sk-toggleable\"><input class=\"sk-toggleable__control sk-hidden--visually\" id=\"a940449e-85d6-4d0c-98d1-a2e0bcb7a0a8\" type=\"checkbox\" ><label for=\"a940449e-85d6-4d0c-98d1-a2e0bcb7a0a8\" class=\"sk-toggleable__label sk-toggleable__label-arrow\">KNNImputer</label><div class=\"sk-toggleable__content\"><pre>KNNImputer()</pre></div></div></div></div></div></div></div></div></div></div><div class=\"sk-item sk-dashed-wrapped\"><div class=\"sk-label-container\"><div class=\"sk-label sk-toggleable\"><input class=\"sk-toggleable__control sk-hidden--visually\" id=\"64a6b1e3-9483-49b7-a25e-f25ee49cb41f\" type=\"checkbox\" ><label for=\"64a6b1e3-9483-49b7-a25e-f25ee49cb41f\" class=\"sk-toggleable__label sk-toggleable__label-arrow\">bag: TransformedTargetRegressor</label><div class=\"sk-toggleable__content\"><pre>TransformedTargetRegressor(regressor=BaggingRegressor(max_features=0.8,\n",
              "                                                      n_estimators=100,\n",
              "                                                      n_jobs=-1),\n",
              "                           transformer=QuantileTransformer(n_quantiles=300,\n",
              "                                                           output_distribution=&#x27;normal&#x27;))</pre></div></div></div><div class=\"sk-parallel\"><div class=\"sk-parallel-item\"><div class=\"sk-item\"><div class=\"sk-serial\"><div class=\"sk-item\"><div class=\"sk-estimator sk-toggleable\"><input class=\"sk-toggleable__control sk-hidden--visually\" id=\"62be28eb-ba14-4d51-be45-87b41e9ea131\" type=\"checkbox\" ><label for=\"62be28eb-ba14-4d51-be45-87b41e9ea131\" class=\"sk-toggleable__label sk-toggleable__label-arrow\">BaggingRegressor</label><div class=\"sk-toggleable__content\"><pre>BaggingRegressor(max_features=0.8, n_estimators=100, n_jobs=-1)</pre></div></div></div></div></div></div><div class=\"sk-parallel-item\"><div class=\"sk-item\"><div class=\"sk-serial\"><div class=\"sk-item\"><div class=\"sk-estimator sk-toggleable\"><input class=\"sk-toggleable__control sk-hidden--visually\" id=\"8377822a-6bf9-42a0-a6d6-124b3aaf3854\" type=\"checkbox\" ><label for=\"8377822a-6bf9-42a0-a6d6-124b3aaf3854\" class=\"sk-toggleable__label sk-toggleable__label-arrow\">QuantileTransformer</label><div class=\"sk-toggleable__content\"><pre>QuantileTransformer(n_quantiles=300, output_distribution=&#x27;normal&#x27;)</pre></div></div></div></div></div></div></div></div></div></div></div></div>"
            ]
          },
          "metadata": {},
          "execution_count": 302
        }
      ]
    },
    {
      "cell_type": "code",
      "source": [
        "# Itt az abszolút hiba középértékét (MAE) használjuk, mert ezt szeretnénk a dal népszerűségének abszolút hibájával korrelálni.\n",
        "y_pred = model_final_pipe.predict(X_test)\n",
        "mae = mean_absolute_error(y_test, y_pred)\n",
        "print(f\"MAE: {mae:.6f}\")"
      ],
      "metadata": {
        "colab": {
          "base_uri": "https://localhost:8080/"
        },
        "id": "yk8C_CkC5uR9",
        "outputId": "2232ebd0-25ca-4567-a776-7f8f85ffe6c5"
      },
      "execution_count": 305,
      "outputs": [
        {
          "output_type": "stream",
          "name": "stdout",
          "text": [
            "MAE: 10.752468\n"
          ]
        }
      ]
    },
    {
      "cell_type": "code",
      "source": [
        "# Jelenleg nem máködik...\n",
        "# Grafikus report generálása html fájlba\n",
        "# Futtatás előtt:\n",
        "# ! pip install https://github.com/pandas-profiling/pandas-profiling/archive/master.zip\n",
        "#profile = ProfileReport(df, title=\"Spotify Song Popularity\", html={'style':{'full_width':True}})\n",
        "# Ezt használtam a profiling feature használásához: https://python.plainenglish.io/how-to-use-pandas-profiling-on-google-colab-e34f34ff1c9f"
      ],
      "metadata": {
        "id": "NNHGGNIdmjHE"
      },
      "execution_count": 304,
      "outputs": []
    },
    {
      "cell_type": "code",
      "source": [
        "#profile"
      ],
      "metadata": {
        "id": "BKaBo2z-1XNE"
      },
      "execution_count": null,
      "outputs": []
    },
    {
      "cell_type": "code",
      "source": [
        "# Report elmentése fájlba\n",
        "#profile.to_file(\"../Spotify_Song_Popularity.html\")"
      ],
      "metadata": {
        "id": "DK15V5Rz19Zx"
      },
      "execution_count": null,
      "outputs": []
    }
  ]
}